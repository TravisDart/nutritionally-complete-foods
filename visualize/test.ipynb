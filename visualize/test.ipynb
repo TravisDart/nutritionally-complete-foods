{
 "cells": [
  {
   "cell_type": "code",
   "id": "382f5327-5743-4b45-8a84-6c85aa566d8d",
   "metadata": {
    "ExecuteTime": {
     "end_time": "2024-12-07T01:17:36.396776Z",
     "start_time": "2024-12-07T01:17:36.392085Z"
    }
   },
   "source": [
    "import os\n",
    "import sys\n",
    "\n",
    "module_path = os.path.abspath(os.path.join('..'))\n",
    "if module_path not in sys.path:\n",
    "    sys.path.append(module_path)"
   ],
   "outputs": [],
   "execution_count": 8
  },
  {
   "cell_type": "code",
   "execution_count": 9,
   "id": "1e8bada4-b6c0-40ee-982e-e4fdd2aae225",
   "metadata": {
    "ExecuteTime": {
     "end_time": "2024-12-04T03:13:52.428998Z",
     "start_time": "2024-12-04T03:13:52.411968Z"
    }
   },
   "outputs": [],
   "source": [
    "import string\n",
    "from ipywidgets import widgets, Layout\n",
    "\n",
    "slider_init_values = [\n",
    "    [\"Almond milk (14091)\", 1227],\n",
    "    [\"Tea (14355)\", 804],\n",
    "    [\"Cherries (9068)\", 3382],\n",
    "    [\"Potato pancakes (11672)\", 913],\n",
    "]\n",
    "sliders = [\n",
    "    widgets.IntSlider(\n",
    "        description=slider[0],\n",
    "        value=slider[1],\n",
    "        min=0,\n",
    "        max=3500,\n",
    "        style={\"description_width\": \"200px\"},\n",
    "        layout=Layout(width=\"500px\"),\n",
    "    )\n",
    "    for slider in slider_init_values\n",
    "]\n",
    "\n",
    "# interact won't take a list, so construct this awkward dict\n",
    "slider_dict = {string.ascii_lowercase[i]: z for i, z in enumerate(sliders)}\n",
    "\n",
    "out = widgets.interact(\n",
    "    # stacked_bars,\n",
    "    **slider_dict,\n",
    ")"
   ]
  },
  {
   "metadata": {},
   "cell_type": "code",
   "source": [
    "import ipywidgets as widgets\n",
    "from IPython.display import display\n",
    "\n",
    "# Create 4 IntSlider widgets\n",
    "slider1 = widgets.IntSlider(description='Slider 1', min=0, max=100, value=50)\n",
    "slider2 = widgets.IntSlider(description='Slider 2', min=0, max=100, value=50)\n",
    "slider3 = widgets.IntSlider(description='Slider 3', min=0, max=100, value=50)\n",
    "slider4 = widgets.IntSlider(description='Slider 4', min=0, max=100, value=50)\n",
    "\n",
    "# Display the sliders\n",
    "display(slider1, slider2, slider3, slider4)"
   ],
   "id": "69fe568b57ffdae6",
   "outputs": [],
   "execution_count": null
  },
  {
   "metadata": {},
   "cell_type": "code",
   "outputs": [],
   "execution_count": null,
   "source": "",
   "id": "5088ef7ed33a9a8f"
  },
  {
   "metadata": {
    "ExecuteTime": {
     "end_time": "2024-12-07T03:34:28.302209Z",
     "start_time": "2024-12-07T03:34:27.794156Z"
    }
   },
   "cell_type": "code",
   "source": [
    "from solver.load_data import load_data\n",
    "from constants import NUTRIENT_NAMES\n",
    "import matplotlib.pyplot as plt\n",
    "from ipywidgets import widgets, Layout\n",
    "import string\n",
    "\n",
    "\n",
    "def stacked_bars(**kwargs):\n",
    "    \"\"\"\n",
    "    Creates a stacked bar chart for each list in a list of lists.\n",
    "\n",
    "    Args:\n",
    "      data: A list of lists, where each sublist represents a set of values to be stacked.\n",
    "      labels: A list of labels for the data sets.\n",
    "    \"\"\"\n",
    "    nutrient_quantities = list(kwargs.values())\n",
    "    labels = NUTRIENT_NAMES\n",
    "    data = [[.1, .2]] * len(labels)\n",
    "    colors = [\"#32a852\", \"#53e079\"]\n",
    "\n",
    "    # Create the figure and axis\n",
    "    fig, ax = plt.subplots()\n",
    "    ax.invert_yaxis()\n",
    "    ax.set_ylabel(\"Nutrients\")\n",
    "    ax.set_xlabel(\"Percentages\")\n",
    "    ax.set_xlim(0, 1.2)  # 0% to 120%\n",
    "\n",
    "    for i in range(len(data)):\n",
    "        left = 0\n",
    "        for j in range(len(data[i])):\n",
    "            ax.barh(labels[i], data[i][j], left=left, color=colors[j % len(colors)])\n",
    "            left += data[i][j]\n",
    "\n",
    "    plt.tight_layout()\n",
    "    plt.show()\n",
    "\n",
    "\n",
    "def make_sliders(foods, max_foods):\n",
    "    slider_init_values = [\n",
    "        [\n",
    "            foods[i][1].split(\" > \")[1] + f\" ({foods[i][0]})\",\n",
    "            max_foods[i]\n",
    "        ]\n",
    "        for i in range(len(foods))\n",
    "    ]\n",
    "    sliders = [\n",
    "        widgets.IntSlider(\n",
    "            description=slider[0],\n",
    "            value=slider[1],\n",
    "            min=0,\n",
    "            max=3500,\n",
    "            style={\"description_width\": \"200px\"},\n",
    "            layout=Layout(width=\"500px\"),\n",
    "        )\n",
    "        for slider in slider_init_values\n",
    "    ]\n",
    "\n",
    "    # widgets.interact() won't take a list, so construct this awkward dict\n",
    "    slider_dict = {string.ascii_lowercase[i]: z for i, z in enumerate(sliders)}\n",
    "\n",
    "    return slider_dict\n",
    "\n",
    "\n",
    "foods, max_foods, min_requirements, max_requirements = load_data(only_these_ids=[11147, 11297])\n",
    "\n",
    "out = widgets.interact(stacked_bars, **{\n",
    "    \"sliders\": make_sliders(foods, max_foods),\n",
    "    \"foods\": foods,\n",
    "    \"max_foods\": max_foods,\n",
    "    \"min_requirements\": min_requirements,\n",
    "    \"max_requirements\": max_requirements,\n",
    "})\n",
    "\n",
    "\n",
    "\n",
    "\n"
   ],
   "id": "e1d7ba8e3e2b189c",
   "outputs": [
    {
     "data": {
      "text/plain": [
       "interactive(children=(Dropdown(description='sliders', options={'a': IntSlider(value=904, description='Chard, s…"
      ],
      "application/vnd.jupyter.widget-view+json": {
       "version_major": 2,
       "version_minor": 0,
       "model_id": "4e563a63d0b049c091064f24e641ead6"
      }
     },
     "metadata": {},
     "output_type": "display_data"
    }
   ],
   "execution_count": 5
  },
  {
   "metadata": {},
   "cell_type": "code",
   "outputs": [],
   "execution_count": null,
   "source": "",
   "id": "b3705e216f74f197"
  }
 ],
 "metadata": {
  "kernelspec": {
   "display_name": "Python 3 (ipykernel)",
   "language": "python",
   "name": "python3"
  },
  "language_info": {
   "codemirror_mode": {
    "name": "ipython",
    "version": 3
   },
   "file_extension": ".py",
   "mimetype": "text/x-python",
   "name": "python",
   "nbconvert_exporter": "python",
   "pygments_lexer": "ipython3",
   "version": "3.10.0"
  }
 },
 "nbformat": 4,
 "nbformat_minor": 5
}
